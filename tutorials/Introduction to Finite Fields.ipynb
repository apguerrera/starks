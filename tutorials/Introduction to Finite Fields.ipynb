{
 "cells": [
  {
   "cell_type": "markdown",
   "metadata": {},
   "source": [
    "In this tutorial, we'll teach you about the basics of working with finite fields. Finite fields are very useful mathematical objects that pop up everywhere in cryptography. What is a \"finite field\" you might ask? Before we get into this, it might be useful to first review the mathematical concept of a \"field\".\n",
    "\n",
    "Don't be thrown off by the mathematical terminology. You've seen fields before. The most common field is the real numbers, often written as \n",
    "\n",
    "$$\\mathbb{R}$$\n",
    "\n",
    "Here are some common examples of real numbers\n",
    "\n",
    "$$\\pi, e, 1.244353$$\n",
    "\n",
    "What can we do with real numbers? Well, we can add them, we can subtract them, multiply them, and divide them. Here are some examples of real number operations\n",
    "\n",
    "$$\\pi^2, \\pi + \\pi, \\pi/\\pi$$\n",
    "\n",
    "A field is simply any set where you can add, sutract, multiply, and divide numbers. (You might protest you can't divide by 0. That's a special case handled differently). What are some other examples of fields you might have seen? Well likely the rational numbers\n",
    "\n",
    "$$\\mathbb{Q}$$\n",
    "\n",
    "Members of this field are simply fractions. Note that you can add, subtract, multiply and divide fractions\n",
    "\n",
    "$$\\frac{a}{b} + \\frac{c}{d} = \\frac{ad + bc}{bd}$$\n",
    "$$\\frac{a}{b} \\times \\frac{c}{d} = \\frac{ac}{bd}$$\n",
    "$$\\frac{1}{\\frac{a}{b}} = \\frac{b}{a}$$\n",
    "\n",
    "Ok, you might now be feeling that fields are pretty common. What are some things that aren't fields? Well for starters, the set of whole numbers isn't a field. Why not? You can add, subtract, and multiply whole numbers, but you can't divide them. For example\n",
    "\n",
    "$$ \\frac{1}{2} \\not\\in \\mathbb{Z}$$\n",
    "\n",
    "where we've used the mathematical notation for the set of whole numbers\n",
    "\n",
    "$$\\mathbb{Z}$$\n",
    "\n",
    "This is well and good you might say, but what does this have to do with cryptography? It turns out that the first field that's very useful in cryptography is the modular numbers\n",
    "\n",
    "$$\\mathbb{Z}_p$$\n",
    "\n"
   ]
  },
  {
   "cell_type": "code",
   "execution_count": 1,
   "metadata": {},
   "outputs": [],
   "source": [
    "import starks"
   ]
  },
  {
   "cell_type": "code",
   "execution_count": null,
   "metadata": {},
   "outputs": [],
   "source": []
  }
 ],
 "metadata": {
  "kernelspec": {
   "display_name": "Python 3",
   "language": "python",
   "name": "python3"
  },
  "language_info": {
   "codemirror_mode": {
    "name": "ipython",
    "version": 3
   },
   "file_extension": ".py",
   "mimetype": "text/x-python",
   "name": "python",
   "nbconvert_exporter": "python",
   "pygments_lexer": "ipython3",
   "version": "3.7.1"
  }
 },
 "nbformat": 4,
 "nbformat_minor": 2
}
