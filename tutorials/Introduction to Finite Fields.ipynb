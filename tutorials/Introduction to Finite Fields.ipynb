{
 "cells": [
  {
   "cell_type": "markdown",
   "metadata": {},
   "source": [
    "In this tutorial, we'll teach you about the basics of working with finite fields. Finite fields are very useful mathematical objects that pop up everywhere in cryptography. What is a \"finite field\" you might ask? Before we get into this, it might be useful to first review the mathematical concept of a \"field\".\n",
    "\n",
    "Don't be thrown off by the mathematical terminology. You've seen fields before. The most common field is the real numbers, often written as \n",
    "\n",
    "$$\\mathbb{R}$$\n",
    "\n",
    "Here are some common examples of real numbers\n",
    "\n",
    "$$\\pi, e, 1.244353$$\n",
    "\n",
    "What can we do with real numbers? Well, we can add them, we can subtract them, multiply them, and divide them. Here are some examples of real number operations\n",
    "\n",
    "$$\\pi^2, \\pi + \\pi, \\pi/\\pi$$\n",
    "\n",
    "A field is simply any set where you can add, sutract, multiply, and divide numbers. (You might protest you can't divide by 0. That's a special case handled differently). What are some other examples of fields you might have seen? Well likely the rational numbers\n",
    "\n",
    "$$\\mathbb{Q}$$\n",
    "\n",
    "Members of this field are simply fractions. Note that you can add, subtract, multiply and divide fractions\n",
    "\n",
    "$$\\frac{a}{b} + \\frac{c}{d} = \\frac{ad + bc}{bd}$$\n",
    "$$\\frac{a}{b} \\times \\frac{c}{d} = \\frac{ac}{bd}$$\n",
    "$$\\frac{1}{\\frac{a}{b}} = \\frac{b}{a}$$\n",
    "\n",
    "Ok, you might now be feeling that fields are pretty common. What are some things that aren't fields? Well for starters, the set of whole numbers isn't a field. Why not? You can add, subtract, and multiply whole numbers, but you can't divide them. For example\n",
    "\n",
    "$$ \\frac{1}{2} \\not\\in \\mathbb{Z}$$\n",
    "\n",
    "where we've used the mathematical notation for the set of whole numbers\n",
    "\n",
    "$$\\mathbb{Z}$$\n",
    "\n",
    "This is well and good you might say, but what does this have to do with cryptography? It turns out that the first field that's very useful in cryptography is the modular numbers\n",
    "\n",
    "$$\\mathbb{Z}_p$$\n",
    "\n",
    "What are modular numbers? It might be easiest to describe them relative to clocks. In a clock, numbers don't increment forever. Rather they wrap around. This makes sense, since each day \"resets\" naturally. With a little more detail, note how 4 hours after 9 o'clock is 1 o'clock and not 13 o'clock.\n",
    "\n",
    "![modular numbers](https://upload.wikimedia.org/wikipedia/commons/thumb/a/a4/Clock_group.svg/320px-Clock_group.svg.png)\n",
    "\n",
    "Modular numbers work the exact same way. In fact, if you want to model the numbers on a clock, the corresponding set of modular numbers is\n",
    "\n",
    "$$\\mathbb{Z}_{12}$$\n",
    "\n",
    "How do addition and multiplication work? Well, simply put, add and multiply as usual and \"wrap around\" appropriately. Let's get some code going that demonstrates this. We're going to make use of the `starks` package to do some of this math for us."
   ]
  },
  {
   "cell_type": "code",
   "execution_count": 3,
   "metadata": {},
   "outputs": [],
   "source": [
    "import starks\n",
    "from starks.modp import IntegersModP"
   ]
  },
  {
   "cell_type": "markdown",
   "metadata": {},
   "source": [
    "The `IntegersModP` class allows us to construct modular numbers. Let's try making some!"
   ]
  },
  {
   "cell_type": "code",
   "execution_count": 4,
   "metadata": {},
   "outputs": [
    {
     "name": "stdout",
     "output_type": "stream",
     "text": [
      "3\n"
     ]
    }
   ],
   "source": [
    "mod12 = IntegersModP(12)\n",
    "a = mod12(3)\n",
    "print(a)"
   ]
  },
  {
   "cell_type": "markdown",
   "metadata": {},
   "source": [
    "Ok, this seems unexciting so far. Let's try doing some basic arithmetic with `a`"
   ]
  },
  {
   "cell_type": "code",
   "execution_count": 5,
   "metadata": {},
   "outputs": [
    {
     "name": "stdout",
     "output_type": "stream",
     "text": [
      "6\n",
      "9\n",
      "0\n"
     ]
    }
   ],
   "source": [
    "print(a + a)\n",
    "print(a + a + a)\n",
    "print(a + a + a + a)"
   ]
  },
  {
   "cell_type": "markdown",
   "metadata": {},
   "source": [
    "Ok now this is a little interesting. Adding `a` four times gets us back to zero! This shouldn't be surprising if we think about the clock face. 4 increments of 3 hours each is 12 hours. Going from 6pm to 6am takes us back to the same place on the clock. Ok, addition seems to make sense. Let's now take a look at multiplication. How does that work?"
   ]
  },
  {
   "cell_type": "code",
   "execution_count": 6,
   "metadata": {},
   "outputs": [
    {
     "name": "stdout",
     "output_type": "stream",
     "text": [
      "9\n"
     ]
    }
   ],
   "source": [
    "print(a*a)"
   ]
  },
  {
   "cell_type": "markdown",
   "metadata": {},
   "source": [
    "Seems to make sense. Let's do one more multiplication and see what happens."
   ]
  },
  {
   "cell_type": "code",
   "execution_count": 7,
   "metadata": {},
   "outputs": [
    {
     "name": "stdout",
     "output_type": "stream",
     "text": [
      "3\n"
     ]
    }
   ],
   "source": [
    "print(a*a*a)"
   ]
  },
  {
   "cell_type": "markdown",
   "metadata": {},
   "source": [
    "Wait, how does this one work? Well, let's work out the math manually\n",
    "\n",
    "$$ 3 * 3 * 3 = 27$$\n",
    "\n",
    "Let's picture the clock face again. Say it's now 1 o'clock. What's the time 27 hours later? Well, 24 hours later, we're back at 1 o'clock, so 27 hours later it should be 4 o'clock. That is, the effective increment is 3 hours. In general, you can achieve this rounding effect by using the remainder operator `%`"
   ]
  },
  {
   "cell_type": "code",
   "execution_count": 8,
   "metadata": {},
   "outputs": [
    {
     "data": {
      "text/plain": [
       "3"
      ]
     },
     "execution_count": 8,
     "metadata": {},
     "output_type": "execute_result"
    }
   ],
   "source": [
    "(3 * 3 * 3) % 12"
   ]
  },
  {
   "cell_type": "markdown",
   "metadata": {},
   "source": [
    "So all that happens in modular arithmetic is that we add, subtract and multiply as normal and then apply `%` to get back the remainder in the correct range. This isn't so bad right? Well then, what about division? This one turns out to be a little trickier. To understand why, let's briefly review what division means. Division is the \"inverse\" operation to multiplication. So if we have \n",
    "\n",
    "$$ a \\times b = 1$$\n",
    "\n",
    "Then we can say that \n",
    "\n",
    "$$ a = \\frac{1}{b}$$\n",
    "\n",
    "The issue with modular division is that there are sometimes numbers which don't have inverses this way. Let's return to \n",
    "\n",
    "$$\\mathbb{Z}_{12}$$\n",
    "\n",
    "What are the multiples of 2 here?"
   ]
  },
  {
   "cell_type": "code",
   "execution_count": 11,
   "metadata": {},
   "outputs": [
    {
     "name": "stdout",
     "output_type": "stream",
     "text": [
      "0\n",
      "2\n",
      "4\n",
      "6\n",
      "8\n",
      "10\n",
      "0\n",
      "2\n",
      "4\n",
      "6\n",
      "8\n",
      "10\n"
     ]
    }
   ],
   "source": [
    "for i in range(12):\n",
    "  print(mod12(2) * mod12(i))"
   ]
  },
  {
   "cell_type": "markdown",
   "metadata": {},
   "source": [
    "Notice that 1 doesn't appear in this list! This means that there's no \"multiplicative inverse\" to the number 2 in \n",
    "\n",
    "$$\\mathbb{Z}_{12}$$\n",
    "\n",
    "The reason for that is that 2 and 12 share a common factor (that is, 2). Let's try the same with 7 instead since 7 and 12 share no common factors."
   ]
  },
  {
   "cell_type": "code",
   "execution_count": 14,
   "metadata": {},
   "outputs": [
    {
     "name": "stdout",
     "output_type": "stream",
     "text": [
      "Trying 0\n",
      "0\n",
      "Trying 1\n",
      "7\n",
      "Trying 2\n",
      "2\n",
      "Trying 3\n",
      "9\n",
      "Trying 4\n",
      "4\n",
      "Trying 5\n",
      "11\n",
      "Trying 6\n",
      "6\n",
      "Trying 7\n",
      "1\n",
      "Trying 8\n",
      "8\n",
      "Trying 9\n",
      "3\n",
      "Trying 10\n",
      "10\n",
      "Trying 11\n",
      "5\n"
     ]
    }
   ],
   "source": [
    "for i in range(12):\n",
    "  print(\"Trying %d\" % i)\n",
    "  print(mod12(7)*mod12(i))"
   ]
  },
  {
   "cell_type": "markdown",
   "metadata": {},
   "source": [
    "We're in luck! It turns out that \n",
    "\n",
    "$$7 * 7 = 49 \\equiv 1\\ (\\textrm{mod} 12)$$\n",
    "\n",
    "We've introduced a new bit of notation here. When we say\n",
    "\n",
    "$$a \\equiv b\\ (\\textrm{mod} 12)$$\n",
    "\n",
    "we mean that both these numbers differ by a multiple of 12. For example\n",
    "\n",
    "$$ 1 \\equiv 13\\ (\\textrm{mod} 12)$$\n",
    "\n",
    "Returning to our original point, that means 7 is its own inverse in \n",
    "\n",
    "$$\\mathbb{Z}_{12}$$\n",
    "\n",
    "Put another way\n",
    "\n",
    "$$ \\frac{1}{7} \\equiv 7\\ (\\mathrm{mod} 12) $$\n",
    "\n",
    "Now returning to the more general point, I've actually been lying to you a bit so far. In particular,\n",
    "\n",
    "$$\\mathbb{Z}_{12}$$\n",
    "\n",
    "is not a field. This is becaususe division doesn't always work, like we saw for 2 above. Can we see when division would always work in modular arithmetic? We would need a number which doesn't share common factors with any of the numbers smaller than it. This is a prime number! More generally, let \n",
    "$$p$$\n",
    "be a prime number. Then\n",
    "$$\\mathbb{Z}_p$$\n",
    "the modular numbers mod $$p$$ will form a finite field. Let's play with this more with a simple example."
   ]
  },
  {
   "cell_type": "code",
   "execution_count": 16,
   "metadata": {},
   "outputs": [
    {
     "name": "stdout",
     "output_type": "stream",
     "text": [
      "0 * 0 = 0\n",
      "0 * 1 = 0\n",
      "0 * 2 = 0\n",
      "1 * 0 = 0\n",
      "1 * 1 = 1\n",
      "1 * 2 = 2\n",
      "2 * 0 = 0\n",
      "2 * 1 = 2\n",
      "2 * 2 = 1\n"
     ]
    }
   ],
   "source": [
    "mod3 = IntegersModP(3)\n",
    "for i in range(3):\n",
    "  for j in range(3):\n",
    "    print(\"%d * %d = %s\" % (i, j, str(mod3(i) * mod3(j))))"
   ]
  },
  {
   "cell_type": "markdown",
   "metadata": {},
   "source": [
    "Note here that \n",
    "$$1 * 1 \\equiv 1\\ (\\textrm{mod} 3)$$\n",
    "$$2 * 2 \\equiv 1\\ (\\textrm{mod} 3)$$\n",
    "(We don't count 0 since it never has a multiplicative inverse). This means that\n",
    "$$\\mathbb{Z}_3$$\n",
    "is a field! This is the first example of a finite field that we've seen so far. Now that you've worked through this first tutorial, I recommend taking some time to play with other finite fields\n",
    "\n",
    "## Exercises\n",
    "\n",
    "1. Can you construct $$\\mathbb{Z}_7$$ in Python?\n",
    "2. What is $$\\frac{1}{3}$$ in the finite field $$\\mathbb{Z}_{19}$$?\n",
    "3. Find a large prime number $$p$$ greater than $$2^{32}$$ Construct $$\\mathbb{Z}_p$$ Try doing some simple arithmetic in this finite field. What do you notice about how the arithmetic works? When does \"overflow\" occur?"
   ]
  }
 ],
 "metadata": {
  "kernelspec": {
   "display_name": "Python 3",
   "language": "python",
   "name": "python3"
  },
  "language_info": {
   "codemirror_mode": {
    "name": "ipython",
    "version": 3
   },
   "file_extension": ".py",
   "mimetype": "text/x-python",
   "name": "python",
   "nbconvert_exporter": "python",
   "pygments_lexer": "ipython3",
   "version": "3.7.1"
  }
 },
 "nbformat": 4,
 "nbformat_minor": 2
}
