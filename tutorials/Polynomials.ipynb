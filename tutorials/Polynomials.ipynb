{
 "cells": [
  {
   "cell_type": "markdown",
   "metadata": {},
   "source": [
    "Polynomials turn out to be critically important for modern cryptography. You might not have seen polynomials in a long time, so we'll review the basic concepts of polynomials from first principles. First, recall that a \"function\" is a rule for transforming an input from one representation to another. The concept of \"function\" is pretty similar in both computer science and mathematics, so let's look at some simple examples of functions in Python."
   ]
  },
  {
   "cell_type": "code",
   "execution_count": 1,
   "metadata": {},
   "outputs": [
    {
     "name": "stdout",
     "output_type": "stream",
     "text": [
      "2\n",
      "3\n"
     ]
    }
   ],
   "source": [
    "def f(x):\n",
    "  return x + 1\n",
    "print(f(1))\n",
    "print(f(2))"
   ]
  },
  {
   "cell_type": "markdown",
   "metadata": {},
   "source": [
    "This seems pretty simple right? How can we write `f` in mathematical notation? It's pretty simple too\n",
    "$$ f(x) = x + 1 $$\n",
    "Ok, let's look at some more complicated functions."
   ]
  },
  {
   "cell_type": "code",
   "execution_count": 2,
   "metadata": {},
   "outputs": [
    {
     "name": "stdout",
     "output_type": "stream",
     "text": [
      "154\n"
     ]
    }
   ],
   "source": [
    "def g(x):\n",
    "  return x**3 + x**2 + x - 1\n",
    "print(g(5))"
   ]
  },
  {
   "cell_type": "markdown",
   "metadata": {},
   "source": [
    "Mathematically, we would write `g` as a function as follows\n",
    "$$g(x) = x^3 + x^2 + x - 1$$\n",
    "Note that there's something simple about the function `f` and `g`. In particular, they only use a few simple operations like addition, subtraction, and multiplication. (Exponentiation is just repeated multiplication). More generally, any function that uses these simple operations is called a \"polynomial.\" Let's take a look at a few examples of polynomials\n",
    "$$h(x) = x^2$$\n",
    "$$\\ell(x) = (x + 7)^4 + (x-2)^2 - x$$\n",
    "Alright, this makes sense. Polynomials are a simple class of function that accepts in numbers and computes operations on them. But why should we care? Well, things get interesting we we start to combine the notion of polynomials with the ideas about finite fields that we learned in the previous tutorial."
   ]
  },
  {
   "cell_type": "markdown",
   "metadata": {},
   "source": [
    "So why are polynomials interesting for computer science? The key concept is that of \"arithmetization.\" A core idea is that any computation can be transformed into a a polynomial. Why does this make sense? Well, first let's talk about digital circuits. Any computation can be encoded as a \"digital circuit.\" What's a digital circuit you ask? Well, you can think of it as a function built up from boolean primitives such as AND, OR, NOT and the like.\n",
    "\n",
    "![digital_gates](https://www.oreilly.com/library/view/introduction-to-digital/9780470900550/images/ch003-f002.jpg)\n",
    "\n",
    "These gates can be wired into one another to form a circuit. \n",
    "\n",
    "![digital_circuit](http://www.edwardbosworth.com/My5155_Slides/Chapter03/DigitalCircuitsAndBooleanExpressions_files/image002.jpg)\n",
    "\n",
    "It takes a little imagining, but any algorithm can be transformed into a digital circuit. Why does this make sense? Well just reasoning from first principles we know that all algorithms we write are run on physical chips. Most chips themselves are simply large digital circuits that have the capacity to process \"instructions\"\n",
    "\n",
    "![mips_circuit](https://i.imgur.com/6R3Xz.png)\n",
    "\n",
    "In fact it's well known in computer science that you can transform back and forth between Turing Machines and Circuits as models of computation so we're on very solid ground here. But what does this have to do with polynomials? Well we explained earlier that polynomials are made up of compositions of simple operations. So are circuits. The connection comes through the idea of \"arithmetic circuits\"\n",
    "\n",
    "![arithmetic_circuit](https://upload.wikimedia.org/wikipedia/commons/thumb/6/64/ArithmeticCircuit.svg/527px-ArithmeticCircuit.svg.png)\n",
    "\n",
    "An arithmetic circuit is simply a circuit that uses addition, subtraction, and multiplication instead of boolean operators. In addition, the input values to the circuit are numbers and not booleans. (For our applications, these numbers will come from finite fields)."
   ]
  },
  {
   "cell_type": "markdown",
   "metadata": {},
   "source": [
    "Let's play with the arithmetic circuit we've displayed above a bit more. For example, how can we create a function that implements this arithmetic circuit? It turns out to be relatively straightforward."
   ]
  },
  {
   "cell_type": "code",
   "execution_count": 3,
   "metadata": {},
   "outputs": [
    {
     "data": {
      "text/plain": [
       "9"
      ]
     },
     "execution_count": 3,
     "metadata": {},
     "output_type": "execute_result"
    }
   ],
   "source": [
    "def f(x_1, x_2):\n",
    "  return (x_1 + x_2)*(x_2+1)\n",
    "f(1, 2)"
   ]
  },
  {
   "cell_type": "markdown",
   "metadata": {},
   "source": [
    "Ok, this is relatively neat, but how is this function related to polynomials. It turns out that with a bit of simplification, we can rewrite `f` as a polynomial\n",
    "\n",
    "$$f(x_1, x_2) = (x_1 + x_2)(x_2 + 1) = x_2^2 + x_1x_2 + x_1 + x_2$$\n",
    "\n",
    "This is a multivariate polynomial of degree 2. So we've just seen three ways of representing the same function. First as an arithmetic circuit, then as a function, then finally as a polynomial. Congrats! You've just \"arithmetized\" your first computation. This notion of arithmetization is one that comes up over and over again in STARK world. You'll see it again soon enough."
   ]
  },
  {
   "cell_type": "markdown",
   "metadata": {},
   "source": [
    "Ok, we've spent most of this chapter talking about polynomials and circuits in general. How is this material related to the finite field concepts you learned about in the previous tutorial? Well to start, it will be useful to introduce some notation. How do we refer to the set of polynomials? Well first, we have to start by specifying what the coefficients are. All the polynomials we've seen till now have had integer coefficients. The set of all such polynomials is specified by\n",
    "\n",
    "$$\\mathbb{Z}[X]$$\n",
    "\n",
    "You can read this as \"Zee of X\". This is the collection of all polynomials in one variable that take integers as coefficients. But what about the polynomial we just saw above that had two variables? Well we can write the set of all polynomials with integer coefficients with two variables as \n",
    "\n",
    "$$\\mathbb{Z}[X_1, X_2]$$\n",
    "\n",
    "You can read this as \"Zee of X-one, X-two\". There's one more change we have to make to allow things to get interesting. It turns that instead of using integer coefficients we can use finite field elements as coefficients. For example, the set of all polynomials with coefficients in the finite field of 7 elements is\n",
    "\n",
    "$$\\mathbb{Z}_7[X]$$\n",
    "\n",
    "These \"finite field polynomials\" end up being really interesting for all sorts of cryptographic reasons. "
   ]
  },
  {
   "cell_type": "markdown",
   "metadata": {},
   "source": [
    "Before we go too deep, let's stop and get some code working. How can we define some polynomials over finite fields with the STARKs library?"
   ]
  },
  {
   "cell_type": "code",
   "execution_count": 6,
   "metadata": {},
   "outputs": [],
   "source": [
    "import starks\n",
    "from starks.modp import IntegersModP\n",
    "from starks.polynomial import polynomials_over\n",
    "\n",
    "mod7 = IntegersModP(7)                                                                            \n",
    "polysMod7 = polynomials_over(mod7).factory                                                        "
   ]
  },
  {
   "cell_type": "markdown",
   "metadata": {},
   "source": [
    "What do these lines do? Well first, we define the finite field with modulus 7\n",
    "$$\\mathbb{Z}_7$$\n",
    "as we did in the past tutorial. We then make a factory function using `polynomials_over`. This allows us to create polynomials in\n",
    "$$\\mathbb{Z}_7[X]$$\n",
    "Let's give it a whirl"
   ]
  },
  {
   "cell_type": "code",
   "execution_count": 8,
   "metadata": {},
   "outputs": [
    {
     "data": {
      "text/plain": [
       "0 + 1 x^1"
      ]
     },
     "execution_count": 8,
     "metadata": {},
     "output_type": "execute_result"
    }
   ],
   "source": [
    "x = polysMod7([0, 1])\n",
    "x"
   ]
  },
  {
   "cell_type": "markdown",
   "metadata": {},
   "source": [
    "How did this work? Well, the coefficients of a polynomial uniquely define the polynomial. So to create a polynomial, simply pass in the list of coefficients to the factory method we defined previously. You might pause here and protest that something's a bit off. 0 and 1 are integers right? How then are we defining polynomials over a finite field? Let's try and see what happens when we pass arbitrary integers in"
   ]
  },
  {
   "cell_type": "code",
   "execution_count": 9,
   "metadata": {},
   "outputs": [
    {
     "data": {
      "text/plain": [
       "2 + 2 x^1"
      ]
     },
     "execution_count": 9,
     "metadata": {},
     "output_type": "execute_result"
    }
   ],
   "source": [
    "polysMod7([100, 100])"
   ]
  },
  {
   "cell_type": "markdown",
   "metadata": {},
   "source": [
    "Wait, what happened here? It turns out that `100 % 7 == 2`. So underneath the hood, the factory method is using casting to turn any integers we pass in into finite field elemements! Make sure to keep this in mind as you work with the library.\n",
    "\n",
    "Alright, so we now know how to definie some simple polynomials. What can we do with them? Well due to operator overloading in Python, we can do all sorts of fun arithmetic operations. Let's give it a try."
   ]
  },
  {
   "cell_type": "code",
   "execution_count": 10,
   "metadata": {},
   "outputs": [
    {
     "data": {
      "text/plain": [
       "0 + 2 x^1"
      ]
     },
     "execution_count": 10,
     "metadata": {},
     "output_type": "execute_result"
    }
   ],
   "source": [
    "x + x"
   ]
  },
  {
   "cell_type": "code",
   "execution_count": 11,
   "metadata": {},
   "outputs": [
    {
     "data": {
      "text/plain": [
       "1 + 1 x^1"
      ]
     },
     "execution_count": 11,
     "metadata": {},
     "output_type": "execute_result"
    }
   ],
   "source": [
    "x + 1"
   ]
  },
  {
   "cell_type": "code",
   "execution_count": null,
   "metadata": {},
   "outputs": [],
   "source": [
    "x**2 + x + 2"
   ]
  },
  {
   "cell_type": "markdown",
   "metadata": {},
   "source": [
    "Note that we can even treat polynomials as functions"
   ]
  },
  {
   "cell_type": "code",
   "execution_count": 15,
   "metadata": {},
   "outputs": [
    {
     "data": {
      "text/plain": [
       "4 (mod 7)"
      ]
     },
     "execution_count": 15,
     "metadata": {},
     "output_type": "execute_result"
    }
   ],
   "source": [
    "g = x**2 + x + 2\n",
    "g(1)"
   ]
  },
  {
   "cell_type": "markdown",
   "metadata": {},
   "source": [
    "## Exercises\n",
    "\n",
    "1. Consider the following simple arithmetic circuit:\n",
    "\n",
    "![three_var_circuit](https://www.researchgate.net/profile/Christos_Nasikas/publication/326657941/figure/fig4/AS:653069704523777@1532715359747/A-simple-arithmetic-circuit.png)\n",
    "\n",
    "Convert this circuit into a function. Next, rewrite this function as a polynomial in three variables.\n",
    "\n",
    "2. Consider the following function\n",
    "\n",
    "$$f(x) = x^6 + x^5 + 3x^3 + 2x^2 + 1 \\in \\mathbb{Z}_{11}[X]$$\n",
    "\n",
    "Define `f` as a object in python. How do you initialize the finite field? How do you create the polynomial factory? How do you define the polynomial?"
   ]
  }
 ],
 "metadata": {
  "kernelspec": {
   "display_name": "Python 3",
   "language": "python",
   "name": "python3"
  },
  "language_info": {
   "codemirror_mode": {
    "name": "ipython",
    "version": 3
   },
   "file_extension": ".py",
   "mimetype": "text/x-python",
   "name": "python",
   "nbconvert_exporter": "python",
   "pygments_lexer": "ipython3",
   "version": "3.7.1"
  }
 },
 "nbformat": 4,
 "nbformat_minor": 2
}
