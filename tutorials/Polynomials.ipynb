{
 "cells": [
  {
   "cell_type": "markdown",
   "metadata": {},
   "source": [
    "Polynomials turn out to be critically important for modern cryptography. You might not have seen polynomials in a long time, so we'll review the basic concepts of polynomials from first principles. First, recall that a \"function\" is a rule for transforming an input from one representation to another. The concept of \"function\" is pretty similar in both computer science and mathematics, so let's look at some simple examples of functions in Python."
   ]
  },
  {
   "cell_type": "code",
   "execution_count": 1,
   "metadata": {},
   "outputs": [
    {
     "name": "stdout",
     "output_type": "stream",
     "text": [
      "2\n",
      "3\n"
     ]
    }
   ],
   "source": [
    "def f(x):\n",
    "  return x + 1\n",
    "print(f(1))\n",
    "print(f(2))"
   ]
  },
  {
   "cell_type": "markdown",
   "metadata": {},
   "source": [
    "This seems pretty simple right? How can we write `f` in mathematical notation? It's pretty simple too\n",
    "$$ f(x) = x + 1 $$\n",
    "Ok, let's look at some more complicated functions."
   ]
  },
  {
   "cell_type": "code",
   "execution_count": 3,
   "metadata": {},
   "outputs": [
    {
     "name": "stdout",
     "output_type": "stream",
     "text": [
      "154\n"
     ]
    }
   ],
   "source": [
    "def g(x):\n",
    "  return x**3 + x**2 + x - 1\n",
    "print(g(5))"
   ]
  },
  {
   "cell_type": "markdown",
   "metadata": {},
   "source": [
    "Mathematically, we would write `g` as a function as follows\n",
    "$$g(x) = x^3 + x^2 + x - 1$$\n",
    "Note that there's something simple about the function `f` and `g`. In particular, they only use a few simple operations like addition, subtraction, and multiplication. (Exponentiation is just repeated multiplication). More generally, any function that uses these simple operations is called a \"polynomial.\" Let's take a look at a few examples of polynomials\n",
    "$$h(x) = x^2$$\n",
    "$$\\ell(x) = (x + 7)^4 + (x-2)^2 - x$$\n",
    "Alright, this makes sense. Polynomials are a simple class of function that accepts in numbers and computes operations on them. But why should we care? Well, things get interesting we we start to combine the notion of polynomials with the ideas about finite fields that we learned in the previous tutorial."
   ]
  },
  {
   "cell_type": "markdown",
   "metadata": {},
   "source": [
    "So why are polynomials interesting for computer science? The key concept is that of \"arithmetization.\" A core idea is that any computation can be transformed into a a polynomial. Why does this make sense? Well, first let's talk about digital circuits. Any computation can be encoded as a \"digital circuit.\" What's a digital circuit you ask? Well, you can think of it as a function built up from boolean primitives such as AND, OR, NOT and the like.\n",
    "\n",
    "![digital_gates](https://www.oreilly.com/library/view/introduction-to-digital/9780470900550/images/ch003-f002.jpg)\n",
    "\n",
    "These gates can be wired into one another to form a circuit. \n",
    "\n",
    "![digital_circuit](http://www.edwardbosworth.com/My5155_Slides/Chapter03/DigitalCircuitsAndBooleanExpressions_files/image002.jpg)\n",
    "\n",
    "It takes a little imagining, but any algorithm can be transformed into a digital circuit. Why does this make sense? Well just reasoning from first principles we know that all algorithms we write are run on physical chips. Most chips themselves are simply large digital circuits that have the capacity to process \"instructions\"\n",
    "\n",
    "![mips_circuit](https://i.imgur.com/6R3Xz.png)\n",
    "\n",
    "In fact it's well known in computer science that you can transform back and forth between Turing Machines and Circuits as models of computation so we're on very solid ground here. But what does this have to do with polynomials? Well we explained earlier that polynomials are made up of compositions of simple operations. So are circuits. The connection comes through the idea of \"arithmetic circuits\"\n",
    "\n",
    "![arithmetic_circuit](https://upload.wikimedia.org/wikipedia/commons/thumb/6/64/ArithmeticCircuit.svg/527px-ArithmeticCircuit.svg.png)\n",
    "\n",
    "An arithmetic circuit is simply a circuit that uses addition, subtraction, and multiplication instead of boolean operators. In addition, the input values to the circuit are numbers and not booleans. (For our applications, these numbers will come from finite fields)."
   ]
  }
 ],
 "metadata": {
  "kernelspec": {
   "display_name": "Python 3",
   "language": "python",
   "name": "python3"
  },
  "language_info": {
   "codemirror_mode": {
    "name": "ipython",
    "version": 3
   },
   "file_extension": ".py",
   "mimetype": "text/x-python",
   "name": "python",
   "nbconvert_exporter": "python",
   "pygments_lexer": "ipython3",
   "version": "3.5.5"
  }
 },
 "nbformat": 4,
 "nbformat_minor": 2
}
