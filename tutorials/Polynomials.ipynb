{
 "cells": [
  {
   "cell_type": "markdown",
   "metadata": {},
   "source": [
    "Polynomials turn out to be critically important for modern cryptography. You might not have seen polynomials in a long time, so we'll review the basic concepts of polynomials from first principles. First, recall that a \"function\" is a rule for transforming an input from one representation to another. The concept of \"function\" is pretty similar in both computer science and mathematics, so let's look at some simple examples of functions in Python."
   ]
  },
  {
   "cell_type": "code",
   "execution_count": 1,
   "metadata": {},
   "outputs": [
    {
     "name": "stdout",
     "output_type": "stream",
     "text": [
      "2\n",
      "3\n"
     ]
    }
   ],
   "source": [
    "def f(x):\n",
    "  return x + 1\n",
    "print(f(1))\n",
    "print(f(2))"
   ]
  },
  {
   "cell_type": "markdown",
   "metadata": {},
   "source": [
    "This seems pretty simple right? How can we write `f` in mathematical notation? It's pretty simple too\n",
    "$$ f(x) = x + 1 $$\n",
    "Ok, let's look at some more complicated functions."
   ]
  },
  {
   "cell_type": "code",
   "execution_count": 3,
   "metadata": {},
   "outputs": [
    {
     "name": "stdout",
     "output_type": "stream",
     "text": [
      "154\n"
     ]
    }
   ],
   "source": [
    "def g(x):\n",
    "  return x**3 + x**2 + x - 1\n",
    "print(g(5))"
   ]
  },
  {
   "cell_type": "markdown",
   "metadata": {},
   "source": [
    "Mathematically, we would write `g` as a function as follows\n",
    "$$g(x) = x^3 + x^2 + x - 1$$\n",
    "Note that there's something simple about the function `f` and `g`. In particular, they only use a few simple operations like addition, subtraction, and multiplication. (Exponentiation is just repeated multiplication). More generally, any function that uses these simple operations is called a \"polynomial.\" Let's take a look at a few examples of polynomials\n",
    "$$h(x) = x^2$$\n",
    "$$\\ell(x) = (x + 7)^4 + (x-2)^2 - x$$\n",
    "Alright, this makes sense. Polynomials are a simple class of function that accepts in numbers and computes operations on them. But why should we care? Well, things get interesting we we start to combine the notion of polynomials with the ideas about finite fields that we learned in the previous tutorial."
   ]
  }
 ],
 "metadata": {
  "kernelspec": {
   "display_name": "Python 3",
   "language": "python",
   "name": "python3"
  },
  "language_info": {
   "codemirror_mode": {
    "name": "ipython",
    "version": 3
   },
   "file_extension": ".py",
   "mimetype": "text/x-python",
   "name": "python",
   "nbconvert_exporter": "python",
   "pygments_lexer": "ipython3",
   "version": "3.7.1"
  }
 },
 "nbformat": 4,
 "nbformat_minor": 2
}
