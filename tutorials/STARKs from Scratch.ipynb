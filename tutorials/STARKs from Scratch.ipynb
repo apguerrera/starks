{
 "cells": [
  {
   "cell_type": "markdown",
   "metadata": {},
   "source": [
    "In this tutorial, we're going to aim to construct a simple STARK from scratch. We'll use a number of the pieces you've seen from the previous tutorials, so I highly recommend working through those earlier tutorials before taking on this tutorial.\n",
    "\n",
    "So what is a STARK?\n",
    "\n",
    "- S: Succinct\n",
    "- T: Transparent\n",
    "- AR: Argument of\n",
    "- K: Knowledge\n",
    "\n",
    "Put another way, a STARK is a tool for succinctly proving something. You might also hear about zk-STARKs. Here, zk stands for \"zero-knowledge.\" In this tutorial, we won't work out the zero-knowledge transformation for STARKs.\n",
    "\n",
    "Intuitively, construct a STARK can be thought of taking the following steps:\n",
    "\n",
    "1. Transforming your computation into an appropriate polynomial (Arithmetization)\n",
    "2. Prove that this polynomial has low degree (Fast Reed-Solomon Interactive Oracle Proof of Proximity)\n",
    "\n",
    "In the rest of this tutorial, we'll unpack both of these steps and dive into more details on how this encoding is performed."
   ]
  }
 ],
 "metadata": {
  "kernelspec": {
   "display_name": "Python 3",
   "language": "python",
   "name": "python3"
  },
  "language_info": {
   "codemirror_mode": {
    "name": "ipython",
    "version": 3
   },
   "file_extension": ".py",
   "mimetype": "text/x-python",
   "name": "python",
   "nbconvert_exporter": "python",
   "pygments_lexer": "ipython3",
   "version": "3.5.5"
  }
 },
 "nbformat": 4,
 "nbformat_minor": 2
}
